{
 "cells": [
  {
   "cell_type": "code",
   "execution_count": 1,
   "metadata": {},
   "outputs": [],
   "source": [
    "%matplotlib inline"
   ]
  },
  {
   "cell_type": "markdown",
   "metadata": {},
   "source": [
    "## This project trains image classification model and also evaluate the trained model by confusion matrix"
   ]
  },
  {
   "cell_type": "markdown",
   "metadata": {},
   "source": [
    "### This project train image classification model by reffering sample code from https://pytorch.org/tutorials/beginner/finetuning_torchvision_models_tutorial.html. \n",
    "### The dataset is from https://www.kaggle.com/pranavraikokte/covid19-image-dataset.\n"
   ]
  },
  {
   "cell_type": "code",
   "execution_count": 2,
   "metadata": {
    "scrolled": true
   },
   "outputs": [
    {
     "name": "stdout",
     "output_type": "stream",
     "text": [
      "Python version : 3.9.7\n",
      "PyTorch Version:  1.10.1\n",
      "Torchvision Version:  0.11.2\n"
     ]
    }
   ],
   "source": [
    "from __future__ import print_function \n",
    "from __future__ import division\n",
    "import torch\n",
    "import torch.nn as nn\n",
    "import torch.optim as optim\n",
    "import numpy as np\n",
    "import torchvision\n",
    "from torchvision import datasets, models, transforms\n",
    "import matplotlib.pyplot as plt\n",
    "import time\n",
    "import os\n",
    "import copy\n",
    "import glob\n",
    "import cv2\n",
    "from PIL import Image\n",
    "from sklearn.metrics import confusion_matrix\n",
    "from platform import python_version\n",
    "\n",
    "from efficientnet_pytorch import EfficientNet\n",
    "from torchsummary import summary\n",
    "\n",
    "print(\"Python version : \" + python_version())\n",
    "print(\"PyTorch Version: \",torch.__version__)\n",
    "print(\"Torchvision Version: \",torchvision.__version__)"
   ]
  },
  {
   "cell_type": "code",
   "execution_count": 3,
   "metadata": {},
   "outputs": [],
   "source": [
    "# Top level data directory. Here we assume the format of the directory conforms \n",
    "#   to the ImageFolder structure\n",
    "data_dir =  os.getcwd() + '/Covid19-dataset'\n",
    "\n",
    "# Models to choose from [resnet, alexnet, vgg, squeezenet, densenet, inception, efficientnet]\n",
    "model_name = \"vgg\"\n",
    "\n",
    "# Number of classes in the dataset\n",
    "num_classes = 3\n",
    "\n",
    "# Batch size for training (change depending on how much memory you have)\n",
    "batch_size = 32\n",
    "\n",
    "# Number of epochs to train for \n",
    "num_epochs = 30\n",
    "\n",
    "# Flag for feature extracting. When False, we finetune the whole model, \n",
    "#   when True we only update the reshaped layer params\n",
    "feature_extract = True\n",
    "\n",
    "# Optimizer to choose SGD or Adam\n",
    "set_optimizer = 'SGD'"
   ]
  },
  {
   "cell_type": "code",
   "execution_count": 4,
   "metadata": {},
   "outputs": [],
   "source": [
    "def train_model(model, dataloaders, criterion, optimizer, num_epochs=25, is_inception=False):\n",
    "    since = time.time()\n",
    "\n",
    "    val_acc_history = []\n",
    "    \n",
    "    best_model_wts = copy.deepcopy(model.state_dict())\n",
    "    best_acc = 0.0\n",
    "    best_acc_epoch = 0\n",
    "    \n",
    "\n",
    "    for epoch in range(num_epochs):\n",
    "        print('Epoch {}/{}'.format(epoch+1, num_epochs ))\n",
    "        print('-' * 10)\n",
    "\n",
    "        # Each epoch has a training and validation phase\n",
    "        for phase in ['train', 'val']:\n",
    "            if phase == 'train':\n",
    "                model.train()  # Set model to training mode\n",
    "            else:\n",
    "                model.eval()   # Set model to evaluate mode\n",
    "\n",
    "            running_loss = 0.0\n",
    "            running_corrects = 0\n",
    "\n",
    "            # Iterate over data.\n",
    "            for inputs, labels in dataloaders[phase]:\n",
    "                inputs = inputs.to(device)\n",
    "                labels = labels.to(device)\n",
    "\n",
    "                # zero the parameter gradients\n",
    "                optimizer.zero_grad()\n",
    "\n",
    "                # forward\n",
    "                # track history if only in train\n",
    "                with torch.set_grad_enabled(phase == 'train'):\n",
    "                    # Get model outputs and calculate loss\n",
    "                    # Special case for inception because in training it has an auxiliary output. In train\n",
    "                    #   mode we calculate the loss by summing the final output and the auxiliary output\n",
    "                    #   but in testing we only consider the final output.\n",
    "                    if is_inception and phase == 'train':\n",
    "                        # From https://discuss.pytorch.org/t/how-to-optimize-inception-model-with-auxiliary-classifiers/7958\n",
    "                        outputs, aux_outputs = model(inputs)\n",
    "                        loss1 = criterion(outputs, labels)\n",
    "                        loss2 = criterion(aux_outputs, labels)\n",
    "                        loss = loss1 + 0.4*loss2\n",
    "                    else:\n",
    "                        outputs = model(inputs)\n",
    "                        loss = criterion(outputs, labels)\n",
    "\n",
    "                    _, preds = torch.max(outputs, 1)\n",
    "\n",
    "                    # backward + optimize only if in training phase\n",
    "                    if phase == 'train':\n",
    "                        loss.backward()\n",
    "                        optimizer.step()\n",
    "\n",
    "                # statistics\n",
    "                running_loss += loss.item() * inputs.size(0)\n",
    "                running_corrects += torch.sum(preds == labels.data)\n",
    "\n",
    "            epoch_loss = running_loss / len(dataloaders[phase].dataset)\n",
    "            epoch_acc = running_corrects.double() / len(dataloaders[phase].dataset)\n",
    "\n",
    "            print('{} Loss: {:.4f} Acc: {:.4f}'.format(phase, epoch_loss, epoch_acc))\n",
    "\n",
    "            # deep copy the model\n",
    "            if phase == 'val' and epoch_acc >= best_acc:\n",
    "                best_acc = epoch_acc\n",
    "                best_model_wts = copy.deepcopy(model.state_dict())\n",
    "                best_acc_epoch = epoch\n",
    "                \n",
    "                if feature_extract == True:\n",
    "                    torch.save(model.state_dict(), model_name + '_'+ set_optimizer + \"_pretrained.pth\")    \n",
    "                else:\n",
    "                    torch.save(model.state_dict(), model_name + '_'+ set_optimizer + \"_scratch.pth\")\n",
    "\n",
    "\n",
    "            if phase == 'val':\n",
    "                val_acc_history.append(epoch_acc)\n",
    "                \n",
    "            if epoch == num_epochs - 1 and feature_extract == True:\n",
    "                torch.save(model.state_dict(), model_name + '_'+ set_optimizer + '_pretrained_lastEpoch.pth')\n",
    "            if epoch == num_epochs - 1 and feature_extract == False:\n",
    "                torch.save(model.state_dict(), model_name + '_'+ set_optimizer + '_scratch_lastEpoch.pth')\n",
    "\n",
    "        print()                         \n",
    "\n",
    "    time_elapsed = time.time() - since\n",
    "    print('Training complete in {:.0f}m {:.0f}s'.format(time_elapsed // 60, time_elapsed % 60))\n",
    "    print('Best val Acc: {:4f}'.format(best_acc))\n",
    "    print('Best val Acc is from Epoch ' + str(best_acc_epoch +1))\n",
    "\n",
    "\n",
    "    # load best model weights\n",
    "    model.load_state_dict(best_model_wts)\n",
    "    return model, val_acc_history"
   ]
  },
  {
   "cell_type": "code",
   "execution_count": 5,
   "metadata": {},
   "outputs": [],
   "source": [
    "def set_parameter_requires_grad(model, feature_extracting):\n",
    "    if feature_extracting:\n",
    "        for param in model.parameters():\n",
    "            param.requires_grad = False"
   ]
  },
  {
   "cell_type": "code",
   "execution_count": 6,
   "metadata": {},
   "outputs": [
    {
     "name": "stdout",
     "output_type": "stream",
     "text": [
      "VGG(\n",
      "  (features): Sequential(\n",
      "    (0): Conv2d(3, 64, kernel_size=(3, 3), stride=(1, 1), padding=(1, 1))\n",
      "    (1): BatchNorm2d(64, eps=1e-05, momentum=0.1, affine=True, track_running_stats=True)\n",
      "    (2): ReLU(inplace=True)\n",
      "    (3): MaxPool2d(kernel_size=2, stride=2, padding=0, dilation=1, ceil_mode=False)\n",
      "    (4): Conv2d(64, 128, kernel_size=(3, 3), stride=(1, 1), padding=(1, 1))\n",
      "    (5): BatchNorm2d(128, eps=1e-05, momentum=0.1, affine=True, track_running_stats=True)\n",
      "    (6): ReLU(inplace=True)\n",
      "    (7): MaxPool2d(kernel_size=2, stride=2, padding=0, dilation=1, ceil_mode=False)\n",
      "    (8): Conv2d(128, 256, kernel_size=(3, 3), stride=(1, 1), padding=(1, 1))\n",
      "    (9): BatchNorm2d(256, eps=1e-05, momentum=0.1, affine=True, track_running_stats=True)\n",
      "    (10): ReLU(inplace=True)\n",
      "    (11): Conv2d(256, 256, kernel_size=(3, 3), stride=(1, 1), padding=(1, 1))\n",
      "    (12): BatchNorm2d(256, eps=1e-05, momentum=0.1, affine=True, track_running_stats=True)\n",
      "    (13): ReLU(inplace=True)\n",
      "    (14): MaxPool2d(kernel_size=2, stride=2, padding=0, dilation=1, ceil_mode=False)\n",
      "    (15): Conv2d(256, 512, kernel_size=(3, 3), stride=(1, 1), padding=(1, 1))\n",
      "    (16): BatchNorm2d(512, eps=1e-05, momentum=0.1, affine=True, track_running_stats=True)\n",
      "    (17): ReLU(inplace=True)\n",
      "    (18): Conv2d(512, 512, kernel_size=(3, 3), stride=(1, 1), padding=(1, 1))\n",
      "    (19): BatchNorm2d(512, eps=1e-05, momentum=0.1, affine=True, track_running_stats=True)\n",
      "    (20): ReLU(inplace=True)\n",
      "    (21): MaxPool2d(kernel_size=2, stride=2, padding=0, dilation=1, ceil_mode=False)\n",
      "    (22): Conv2d(512, 512, kernel_size=(3, 3), stride=(1, 1), padding=(1, 1))\n",
      "    (23): BatchNorm2d(512, eps=1e-05, momentum=0.1, affine=True, track_running_stats=True)\n",
      "    (24): ReLU(inplace=True)\n",
      "    (25): Conv2d(512, 512, kernel_size=(3, 3), stride=(1, 1), padding=(1, 1))\n",
      "    (26): BatchNorm2d(512, eps=1e-05, momentum=0.1, affine=True, track_running_stats=True)\n",
      "    (27): ReLU(inplace=True)\n",
      "    (28): MaxPool2d(kernel_size=2, stride=2, padding=0, dilation=1, ceil_mode=False)\n",
      "  )\n",
      "  (avgpool): AdaptiveAvgPool2d(output_size=(7, 7))\n",
      "  (classifier): Sequential(\n",
      "    (0): Linear(in_features=25088, out_features=4096, bias=True)\n",
      "    (1): ReLU(inplace=True)\n",
      "    (2): Dropout(p=0.5, inplace=False)\n",
      "    (3): Linear(in_features=4096, out_features=4096, bias=True)\n",
      "    (4): ReLU(inplace=True)\n",
      "    (5): Dropout(p=0.5, inplace=False)\n",
      "    (6): Linear(in_features=4096, out_features=3, bias=True)\n",
      "  )\n",
      ")\n"
     ]
    }
   ],
   "source": [
    "def initialize_model(model_name, num_classes, feature_extract, use_pretrained=True):\n",
    "    # Initialize these variables which will be set in this if statement. Each of these\n",
    "    #   variables is model specific.\n",
    "    model_ft = None\n",
    "    input_size = 0\n",
    "\n",
    "    if model_name == \"resnet\":\n",
    "        \"\"\" Resnet18\n",
    "        \"\"\"\n",
    "        model_ft = models.resnet18(pretrained=use_pretrained)\n",
    "        set_parameter_requires_grad(model_ft, feature_extract)\n",
    "        num_ftrs = model_ft.fc.in_features\n",
    "        model_ft.fc = nn.Linear(num_ftrs, num_classes)\n",
    "        input_size = 224\n",
    "\n",
    "    elif model_name == \"alexnet\":\n",
    "        \"\"\" Alexnet\n",
    "        \"\"\"\n",
    "        model_ft = models.alexnet(pretrained=use_pretrained)\n",
    "        set_parameter_requires_grad(model_ft, feature_extract)\n",
    "        num_ftrs = model_ft.classifier[6].in_features\n",
    "        model_ft.classifier[6] = nn.Linear(num_ftrs,num_classes)\n",
    "        input_size = 224\n",
    "\n",
    "    elif model_name == \"vgg\":\n",
    "        \"\"\" VGG11_bn\n",
    "        \"\"\"\n",
    "        model_ft = models.vgg11_bn(pretrained=use_pretrained)\n",
    "        set_parameter_requires_grad(model_ft, feature_extract)\n",
    "        num_ftrs = model_ft.classifier[6].in_features\n",
    "        model_ft.classifier[6] = nn.Linear(num_ftrs,num_classes)\n",
    "        input_size = 224\n",
    "\n",
    "    elif model_name == \"squeezenet\":\n",
    "        \"\"\" Squeezenet\n",
    "        \"\"\"\n",
    "        model_ft = models.squeezenet1_0(pretrained=use_pretrained)\n",
    "        set_parameter_requires_grad(model_ft, feature_extract)\n",
    "        model_ft.classifier[1] = nn.Conv2d(512, num_classes, kernel_size=(1,1), stride=(1,1))\n",
    "        model_ft.num_classes = num_classes\n",
    "        input_size = 224\n",
    "\n",
    "    elif model_name == \"densenet\":\n",
    "        \"\"\" Densenet\n",
    "        \"\"\"\n",
    "        model_ft = models.densenet121(pretrained=use_pretrained)\n",
    "        set_parameter_requires_grad(model_ft, feature_extract)\n",
    "        num_ftrs = model_ft.classifier.in_features\n",
    "        model_ft.classifier = nn.Linear(num_ftrs, num_classes) \n",
    "        input_size = 224\n",
    "\n",
    "    elif model_name == \"inception\":\n",
    "        \"\"\" Inception v3 \n",
    "        Be careful, expects (299,299) sized images and has auxiliary output\n",
    "        \"\"\"\n",
    "        model_ft = models.inception_v3(pretrained=use_pretrained)\n",
    "        set_parameter_requires_grad(model_ft, feature_extract)\n",
    "        # Handle the auxilary net\n",
    "        num_ftrs = model_ft.AuxLogits.fc.in_features\n",
    "        model_ft.AuxLogits.fc = nn.Linear(num_ftrs, num_classes)\n",
    "        # Handle the primary net\n",
    "        num_ftrs = model_ft.fc.in_features\n",
    "        model_ft.fc = nn.Linear(num_ftrs,num_classes)\n",
    "        input_size = 299\n",
    "        \n",
    "    elif model_name == \"efficientnet\":\n",
    "\n",
    "        \"\"\" efficientnet-b0\n",
    "        \"\"\"\n",
    "    \n",
    "        if feature_extract:\n",
    "            model_ft = EfficientNet.from_pretrained('efficientnet-b0')\n",
    "        else:\n",
    "            model_ft = EfficientNet.from_name('efficientnet-b0')\n",
    "          \n",
    "        num_ftrs = model_ft._fc.in_features\n",
    "        model_ft.fc = nn.Linear(num_ftrs, num_classes)\n",
    "        input_size = 224\n",
    "            \n",
    "\n",
    "    else:\n",
    "        print(\"Invalid model name, exiting...\")\n",
    "        exit()\n",
    "    \n",
    "    return model_ft, input_size\n",
    "\n",
    "# Initialize the model for this run\n",
    "model_ft, input_size = initialize_model(model_name, num_classes, feature_extract, use_pretrained=True)\n",
    "\n",
    "# Print the model we just instantiated\n",
    "print(model_ft)"
   ]
  },
  {
   "cell_type": "markdown",
   "metadata": {},
   "source": [
    "Load Data\n",
    "---------\n"
   ]
  },
  {
   "cell_type": "code",
   "execution_count": 7,
   "metadata": {},
   "outputs": [
    {
     "name": "stdout",
     "output_type": "stream",
     "text": [
      "Initializing Datasets and Dataloaders...\n"
     ]
    }
   ],
   "source": [
    "# Data augmentation and normalization for training\n",
    "# Just normalization for validation\n",
    "data_transforms = {\n",
    "    'train': transforms.Compose([\n",
    "        transforms.RandomResizedCrop(input_size),\n",
    "        transforms.RandomHorizontalFlip(),\n",
    "        #transforms.RandomRotation(degrees=180),\n",
    "        #transforms.ColorJitter(brightness=0.5,contrast=0.5,saturation=0.5,hue=0.5),\n",
    "        transforms.ToTensor(),\n",
    "        transforms.Normalize([0.485, 0.456, 0.406], [0.229, 0.224, 0.225])\n",
    "    ]),\n",
    "    'val': transforms.Compose([\n",
    "        transforms.Resize(input_size),\n",
    "        transforms.CenterCrop(input_size),\n",
    "        transforms.ToTensor(),\n",
    "        transforms.Normalize([0.485, 0.456, 0.406], [0.229, 0.224, 0.225])\n",
    "    ]),\n",
    "}\n",
    "\n",
    "print(\"Initializing Datasets and Dataloaders...\")\n",
    "\n",
    "# Create training and validation datasets\n",
    "image_datasets = {x: datasets.ImageFolder(os.path.join(data_dir, x), data_transforms[x]) for x in ['train', 'val']}\n",
    "# Create training and validation dataloaders\n",
    "dataloaders_dict = {x: torch.utils.data.DataLoader(image_datasets[x], batch_size=batch_size, shuffle=True, num_workers=4) for x in ['train', 'val']}\n",
    "\n",
    "# Detect if we have a GPU available\n",
    "device = torch.device(\"cuda:0\" if torch.cuda.is_available() else \"cpu\")"
   ]
  },
  {
   "cell_type": "markdown",
   "metadata": {},
   "source": [
    "Create the Optimizer\n",
    "--------------------\n",
    "\n",
    "\n",
    "\n"
   ]
  },
  {
   "cell_type": "code",
   "execution_count": 8,
   "metadata": {},
   "outputs": [
    {
     "name": "stdout",
     "output_type": "stream",
     "text": [
      "Params to learn:\n",
      "\t classifier.6.weight\n",
      "\t classifier.6.bias\n"
     ]
    }
   ],
   "source": [
    "# Send the model to GPU\n",
    "model_ft = model_ft.to(device)\n",
    "\n",
    "# Gather the parameters to be optimized/updated in this run. If we are\n",
    "#  finetuning we will be updating all parameters. However, if we are \n",
    "#  doing feature extract method, we will only update the parameters\n",
    "#  that we have just initialized, i.e. the parameters with requires_grad\n",
    "#  is True.\n",
    "params_to_update = model_ft.parameters()\n",
    "print(\"Params to learn:\")\n",
    "if feature_extract:\n",
    "    params_to_update = []\n",
    "    for name,param in model_ft.named_parameters():\n",
    "        if param.requires_grad == True:\n",
    "            params_to_update.append(param)\n",
    "            print(\"\\t\",name)\n",
    "else:\n",
    "    for name,param in model_ft.named_parameters():\n",
    "        if param.requires_grad == True:\n",
    "            print(\"\\t\",name)\n",
    "\n",
    "# Observe that all parameters are being optimized\n",
    "if set_optimizer == 'SGD':\n",
    "    optimizer_ft = optim.SGD(params_to_update, lr=0.001, momentum=0.9)\n",
    "elif set_optimizer =='Adam':\n",
    "    optimizer_ft = optim.Adam(params_to_update, lr=0.001, weight_decay=0.00001)\n",
    "else:\n",
    "    print(\"Invalid optimizer name, exiting...\")\n",
    "    exit()"
   ]
  },
  {
   "cell_type": "markdown",
   "metadata": {},
   "source": [
    "Run Training and Validation Step\n",
    "--------------------------------\n",
    "\n",
    "\n",
    "\n"
   ]
  },
  {
   "cell_type": "code",
   "execution_count": 9,
   "metadata": {
    "scrolled": true
   },
   "outputs": [
    {
     "name": "stdout",
     "output_type": "stream",
     "text": [
      "Epoch 1/30\n",
      "----------\n",
      "train Loss: 1.0854 Acc: 0.3992\n",
      "val Loss: 0.9389 Acc: 0.7097\n",
      "\n",
      "Epoch 2/30\n",
      "----------\n",
      "train Loss: 0.8985 Acc: 0.5847\n",
      "val Loss: 0.7254 Acc: 0.7419\n",
      "\n",
      "Epoch 3/30\n",
      "----------\n",
      "train Loss: 0.7440 Acc: 0.7258\n",
      "val Loss: 0.5868 Acc: 0.7419\n",
      "\n",
      "Epoch 4/30\n",
      "----------\n",
      "train Loss: 0.6119 Acc: 0.7863\n",
      "val Loss: 0.4987 Acc: 0.8065\n",
      "\n",
      "Epoch 5/30\n",
      "----------\n",
      "train Loss: 0.5362 Acc: 0.8185\n",
      "val Loss: 0.4520 Acc: 0.8065\n",
      "\n",
      "Epoch 6/30\n",
      "----------\n",
      "train Loss: 0.5430 Acc: 0.7782\n",
      "val Loss: 0.4227 Acc: 0.7742\n",
      "\n",
      "Epoch 7/30\n",
      "----------\n",
      "train Loss: 0.4856 Acc: 0.8347\n",
      "val Loss: 0.3581 Acc: 0.8387\n",
      "\n",
      "Epoch 8/30\n",
      "----------\n",
      "train Loss: 0.4775 Acc: 0.8105\n",
      "val Loss: 0.3478 Acc: 0.8387\n",
      "\n",
      "Epoch 9/30\n",
      "----------\n",
      "train Loss: 0.4575 Acc: 0.8226\n",
      "val Loss: 0.3286 Acc: 0.9032\n",
      "\n",
      "Epoch 10/30\n",
      "----------\n",
      "train Loss: 0.4701 Acc: 0.8065\n",
      "val Loss: 0.3144 Acc: 0.9032\n",
      "\n",
      "Epoch 11/30\n",
      "----------\n",
      "train Loss: 0.4221 Acc: 0.8427\n",
      "val Loss: 0.2882 Acc: 0.9355\n",
      "\n",
      "Epoch 12/30\n",
      "----------\n",
      "train Loss: 0.3989 Acc: 0.8306\n",
      "val Loss: 0.2692 Acc: 0.9677\n",
      "\n",
      "Epoch 13/30\n",
      "----------\n",
      "train Loss: 0.4290 Acc: 0.8548\n",
      "val Loss: 0.2825 Acc: 0.9355\n",
      "\n",
      "Epoch 14/30\n",
      "----------\n",
      "train Loss: 0.3930 Acc: 0.8669\n",
      "val Loss: 0.2777 Acc: 0.9677\n",
      "\n",
      "Epoch 15/30\n",
      "----------\n",
      "train Loss: 0.4099 Acc: 0.8266\n",
      "val Loss: 0.2634 Acc: 0.9355\n",
      "\n",
      "Epoch 16/30\n",
      "----------\n",
      "train Loss: 0.4021 Acc: 0.8468\n",
      "val Loss: 0.2409 Acc: 0.9677\n",
      "\n",
      "Epoch 17/30\n",
      "----------\n",
      "train Loss: 0.3862 Acc: 0.8669\n",
      "val Loss: 0.2508 Acc: 0.9677\n",
      "\n",
      "Epoch 18/30\n",
      "----------\n",
      "train Loss: 0.4049 Acc: 0.8427\n",
      "val Loss: 0.2591 Acc: 0.9355\n",
      "\n",
      "Epoch 19/30\n",
      "----------\n",
      "train Loss: 0.3478 Acc: 0.8589\n",
      "val Loss: 0.2240 Acc: 0.9677\n",
      "\n",
      "Epoch 20/30\n",
      "----------\n",
      "train Loss: 0.4022 Acc: 0.8427\n",
      "val Loss: 0.2186 Acc: 0.9677\n",
      "\n",
      "Epoch 21/30\n",
      "----------\n",
      "train Loss: 0.3584 Acc: 0.8790\n",
      "val Loss: 0.2173 Acc: 0.9677\n",
      "\n",
      "Epoch 22/30\n",
      "----------\n",
      "train Loss: 0.3745 Acc: 0.8468\n",
      "val Loss: 0.2220 Acc: 0.9677\n",
      "\n",
      "Epoch 23/30\n",
      "----------\n",
      "train Loss: 0.4045 Acc: 0.8468\n",
      "val Loss: 0.2391 Acc: 0.9355\n",
      "\n",
      "Epoch 24/30\n",
      "----------\n",
      "train Loss: 0.3645 Acc: 0.8508\n",
      "val Loss: 0.2150 Acc: 0.9677\n",
      "\n",
      "Epoch 25/30\n",
      "----------\n",
      "train Loss: 0.3606 Acc: 0.8589\n",
      "val Loss: 0.2041 Acc: 0.9677\n",
      "\n",
      "Epoch 26/30\n",
      "----------\n",
      "train Loss: 0.3361 Acc: 0.8750\n",
      "val Loss: 0.2167 Acc: 0.9677\n",
      "\n",
      "Epoch 27/30\n",
      "----------\n",
      "train Loss: 0.3477 Acc: 0.8750\n",
      "val Loss: 0.2030 Acc: 0.9677\n",
      "\n",
      "Epoch 28/30\n",
      "----------\n",
      "train Loss: 0.3775 Acc: 0.8750\n",
      "val Loss: 0.2069 Acc: 0.9677\n",
      "\n",
      "Epoch 29/30\n",
      "----------\n",
      "train Loss: 0.3458 Acc: 0.8710\n",
      "val Loss: 0.1983 Acc: 0.9677\n",
      "\n",
      "Epoch 30/30\n",
      "----------\n",
      "train Loss: 0.3290 Acc: 0.8750\n",
      "val Loss: 0.2060 Acc: 0.9677\n",
      "\n",
      "Training complete in 82m 19s\n",
      "Best val Acc: 0.967742\n",
      "Best val Acc is from Epoch 30\n"
     ]
    }
   ],
   "source": [
    "# Setup the loss fxn\n",
    "criterion = nn.CrossEntropyLoss()\n",
    "\n",
    "# Train and evaluate\n",
    "model_ft, hist = train_model(model_ft, dataloaders_dict, criterion, optimizer_ft, num_epochs=num_epochs, is_inception=(model_name==\"inception\"))"
   ]
  },
  {
   "cell_type": "markdown",
   "metadata": {},
   "source": [
    "Comparison with Model Trained from Scratch\n",
    "------------------------------------------\n",
    "\n",
    "\n"
   ]
  },
  {
   "cell_type": "code",
   "execution_count": 10,
   "metadata": {
    "scrolled": true
   },
   "outputs": [
    {
     "name": "stdout",
     "output_type": "stream",
     "text": [
      "Epoch 1/30\n",
      "----------\n",
      "train Loss: 1.1703 Acc: 0.4556\n",
      "val Loss: 1.1207 Acc: 0.4194\n",
      "\n",
      "Epoch 2/30\n",
      "----------\n",
      "train Loss: 1.0470 Acc: 0.5282\n",
      "val Loss: 1.8687 Acc: 0.4194\n",
      "\n",
      "Epoch 3/30\n",
      "----------\n",
      "train Loss: 0.8489 Acc: 0.6532\n",
      "val Loss: 1.3342 Acc: 0.4194\n",
      "\n",
      "Epoch 4/30\n",
      "----------\n",
      "train Loss: 0.9554 Acc: 0.5806\n",
      "val Loss: 0.7679 Acc: 0.5806\n",
      "\n",
      "Epoch 5/30\n",
      "----------\n",
      "train Loss: 0.8491 Acc: 0.6169\n",
      "val Loss: 0.5173 Acc: 0.7742\n",
      "\n",
      "Epoch 6/30\n",
      "----------\n",
      "train Loss: 0.7266 Acc: 0.7097\n",
      "val Loss: 0.3995 Acc: 0.9032\n",
      "\n",
      "Epoch 7/30\n",
      "----------\n",
      "train Loss: 0.6872 Acc: 0.6734\n",
      "val Loss: 1.0638 Acc: 0.5484\n",
      "\n",
      "Epoch 8/30\n",
      "----------\n",
      "train Loss: 0.7959 Acc: 0.6452\n",
      "val Loss: 0.7176 Acc: 0.7097\n",
      "\n",
      "Epoch 9/30\n",
      "----------\n",
      "train Loss: 0.8992 Acc: 0.6452\n",
      "val Loss: 0.4514 Acc: 0.7742\n",
      "\n",
      "Epoch 10/30\n",
      "----------\n",
      "train Loss: 0.7210 Acc: 0.6734\n",
      "val Loss: 0.5371 Acc: 0.6774\n",
      "\n",
      "Epoch 11/30\n",
      "----------\n",
      "train Loss: 0.6962 Acc: 0.6895\n",
      "val Loss: 0.4836 Acc: 0.7742\n",
      "\n",
      "Epoch 12/30\n",
      "----------\n",
      "train Loss: 0.5943 Acc: 0.7540\n",
      "val Loss: 0.2453 Acc: 0.8710\n",
      "\n",
      "Epoch 13/30\n",
      "----------\n",
      "train Loss: 0.6245 Acc: 0.6976\n",
      "val Loss: 0.2377 Acc: 0.9355\n",
      "\n",
      "Epoch 14/30\n",
      "----------\n",
      "train Loss: 0.6427 Acc: 0.7177\n",
      "val Loss: 0.1858 Acc: 0.9677\n",
      "\n",
      "Epoch 15/30\n",
      "----------\n",
      "train Loss: 0.5619 Acc: 0.7621\n",
      "val Loss: 0.3164 Acc: 0.8065\n",
      "\n",
      "Epoch 16/30\n",
      "----------\n",
      "train Loss: 0.5981 Acc: 0.7339\n",
      "val Loss: 0.2039 Acc: 0.9677\n",
      "\n",
      "Epoch 17/30\n",
      "----------\n",
      "train Loss: 0.5450 Acc: 0.7540\n",
      "val Loss: 0.2154 Acc: 0.9355\n",
      "\n",
      "Epoch 18/30\n",
      "----------\n",
      "train Loss: 0.4574 Acc: 0.7944\n",
      "val Loss: 0.2358 Acc: 0.8710\n",
      "\n",
      "Epoch 19/30\n",
      "----------\n",
      "train Loss: 0.4825 Acc: 0.7984\n",
      "val Loss: 0.1992 Acc: 0.9677\n",
      "\n",
      "Epoch 20/30\n",
      "----------\n",
      "train Loss: 0.5596 Acc: 0.7661\n",
      "val Loss: 0.2051 Acc: 0.9677\n",
      "\n",
      "Epoch 21/30\n",
      "----------\n",
      "train Loss: 0.5110 Acc: 0.7782\n",
      "val Loss: 0.2511 Acc: 0.8387\n",
      "\n",
      "Epoch 22/30\n",
      "----------\n",
      "train Loss: 0.5053 Acc: 0.7984\n",
      "val Loss: 0.2902 Acc: 0.8387\n",
      "\n",
      "Epoch 23/30\n",
      "----------\n",
      "train Loss: 0.4308 Acc: 0.8065\n",
      "val Loss: 0.2276 Acc: 0.9355\n",
      "\n",
      "Epoch 24/30\n",
      "----------\n",
      "train Loss: 0.5457 Acc: 0.7903\n",
      "val Loss: 0.2373 Acc: 0.9032\n",
      "\n",
      "Epoch 25/30\n",
      "----------\n",
      "train Loss: 0.4908 Acc: 0.7742\n",
      "val Loss: 0.3364 Acc: 0.8387\n",
      "\n",
      "Epoch 26/30\n",
      "----------\n",
      "train Loss: 0.5725 Acc: 0.7944\n",
      "val Loss: 0.1619 Acc: 1.0000\n",
      "\n",
      "Epoch 27/30\n",
      "----------\n",
      "train Loss: 0.4087 Acc: 0.8266\n",
      "val Loss: 0.1732 Acc: 0.9677\n",
      "\n",
      "Epoch 28/30\n",
      "----------\n",
      "train Loss: 0.5662 Acc: 0.7944\n",
      "val Loss: 0.2179 Acc: 0.8710\n",
      "\n",
      "Epoch 29/30\n",
      "----------\n",
      "train Loss: 0.5325 Acc: 0.7903\n",
      "val Loss: 0.3452 Acc: 0.8387\n",
      "\n",
      "Epoch 30/30\n",
      "----------\n",
      "train Loss: 0.4899 Acc: 0.8145\n",
      "val Loss: 0.2008 Acc: 0.9355\n",
      "\n",
      "Training complete in 270m 37s\n",
      "Best val Acc: 1.000000\n",
      "Best val Acc is from Epoch 26\n"
     ]
    },
    {
     "data": {
      "image/png": "[encoded data removed]",
      "text/plain": [
       "<Figure size 432x288 with 1 Axes>"
      ]
     },
     "metadata": {
      "needs_background": "light"
     },
     "output_type": "display_data"
    }
   ],
   "source": [
    "# Initialize the non-pretrained version of the model used for this run\n",
    "feature_extract=False\n",
    "scratch_model,_ = initialize_model(model_name, num_classes, feature_extract=False, use_pretrained=False)\n",
    "scratch_model = scratch_model.to(device)\n",
    "\n",
    "if set_optimizer == 'SGD':\n",
    "    scratch_optimizer = optim.SGD(scratch_model.parameters(), lr=0.001, momentum=0.9)       \n",
    "elif set_optimizer == 'Adam':\n",
    "    scratch_optimizer = optim.Adam(scratch_model.parameters(), lr=0.001, weight_decay=0.00001)\n",
    "else:\n",
    "    print(\"Invalid optimizer name, exiting...\")\n",
    "    exit()\n",
    "    \n",
    "scratch_criterion = nn.CrossEntropyLoss()\n",
    "_,scratch_hist = train_model(scratch_model, dataloaders_dict, scratch_criterion, scratch_optimizer, num_epochs=num_epochs, is_inception=(model_name==\"inception\"))\n",
    "\n",
    "# Plot the training curves of validation accuracy vs. number \n",
    "#  of training epochs for the transfer learning method and\n",
    "#  the model trained from scratch\n",
    "ohist = []\n",
    "shist = []\n",
    "\n",
    "ohist = [h.cpu().numpy() for h in hist]\n",
    "shist = [h.cpu().numpy() for h in scratch_hist]\n",
    "\n",
    "plt.title(\"Validation Accuracy vs. Number of Training Epochs\")\n",
    "plt.xlabel(\"Training Epochs\")\n",
    "plt.ylabel(\"Validation Accuracy\")\n",
    "plt.plot(range(1,num_epochs+1),ohist,label=\"Pretrained\")\n",
    "plt.plot(range(1,num_epochs+1),shist,label=\"Scratch\")\n",
    "plt.ylim((0,1.))\n",
    "plt.xticks(np.arange(1, num_epochs+1, 1.0))\n",
    "plt.legend()\n",
    "plt.show()"
   ]
  },
  {
   "cell_type": "markdown",
   "metadata": {},
   "source": [
    "## Model Evaluation with Confusion Matrix"
   ]
  },
  {
   "cell_type": "code",
   "execution_count": 11,
   "metadata": {},
   "outputs": [],
   "source": [
    "test_image_path = data_dir + \"/test/*\""
   ]
  },
  {
   "cell_type": "code",
   "execution_count": 12,
   "metadata": {},
   "outputs": [],
   "source": [
    "def label_getter():\n",
    "    class_label = []\n",
    "    folders = glob.glob(data_dir + \"/test/*\")\n",
    "    for folder in folders:\n",
    "            label = os.path.basename(folder)\n",
    "            class_label.append(label)\n",
    "    \n",
    "    return class_label"
   ]
  },
  {
   "cell_type": "code",
   "execution_count": 13,
   "metadata": {},
   "outputs": [],
   "source": [
    "def model_setter(model_path):\n",
    "    test_model = initialize_model(model_name, num_classes, feature_extract=False, use_pretrained=False)[0]\n",
    "    test_model.load_state_dict(torch.load(model_path))\n",
    "    test_model.eval()\n",
    "    \n",
    "    return test_model"
   ]
  },
  {
   "cell_type": "code",
   "execution_count": 14,
   "metadata": {},
   "outputs": [],
   "source": [
    "def image_preprocessing(image_path):\n",
    "\n",
    "    transform_test = transforms.Compose([\n",
    "        transforms.Resize(input_size),\n",
    "        transforms.CenterCrop(input_size),\n",
    "        transforms.ToTensor(),\n",
    "        transforms.Normalize(mean=[0.485, 0.456, 0.406], std=[0.229, 0.224, 0.225])\n",
    "    ])\n",
    "    \n",
    "    img_read = cv2.imread(image_path)\n",
    "    img = Image.fromarray(np.uint8(img_read))\n",
    "    inputs = transform_test(img)\n",
    "\n",
    "    device = torch.device(\"cuda:0\" if torch.cuda.is_available() else \"cpu\")\n",
    "    inputs = inputs.unsqueeze(0).to(device)\n",
    "\n",
    "    return inputs "
   ]
  },
  {
   "cell_type": "code",
   "execution_count": 15,
   "metadata": {},
   "outputs": [],
   "source": [
    "def label_setter(model,processed_image):\n",
    "\n",
    "    labels = label_getter()\n",
    "    labels.reverse()\n",
    "    label = None\n",
    "    num_classes = len(labels)\n",
    "    \n",
    "    result = model(processed_image)\n",
    "\n",
    "    idx = torch.argmax(result[0])\n",
    "    \n",
    "    label = labels[int(idx)]\n",
    "\n",
    "    return label"
   ]
  },
  {
   "cell_type": "code",
   "execution_count": 16,
   "metadata": {},
   "outputs": [],
   "source": [
    "def True_Pred(model_path):\n",
    "    folders = glob.glob(data_dir + \"/test/*\")\n",
    "    model = model_setter(model_path)\n",
    "    True_label = []\n",
    "    Pred_label = []\n",
    "\n",
    "    for folder in folders:\n",
    "\n",
    "        files = glob.glob(folder + \"/*\")\n",
    "        label = os.path.basename(folder)\n",
    "        for file in files:\n",
    "            True_label.append(label)\n",
    "            Pred_label.append(label_setter(model, image_preprocessing(file)))\n",
    "    \n",
    "    return True_label,Pred_label"
   ]
  },
  {
   "cell_type": "code",
   "execution_count": 17,
   "metadata": {},
   "outputs": [],
   "source": [
    "def plot_confusion_matrix(cm, classes,\n",
    "                          normalize=False,\n",
    "                          title='Confusion matrix',\n",
    "                          cmap=plt.cm.Blues):\n",
    "    \"\"\"\n",
    "    This function prints and plots the confusion matrix.\n",
    "    Normalization can be applied by setting `normalize=True`.\n",
    "    \"\"\"\n",
    "    import itertools\n",
    "    if normalize:\n",
    "        cm = cm.astype('float') / cm.sum(axis=1)[:, np.newaxis]\n",
    "        print(\"Normalized confusion matrix\")\n",
    "    else:\n",
    "        print('Confusion matrix, without normalization')\n",
    "\n",
    "    print(cm)\n",
    "\n",
    "    plt.imshow(cm, interpolation='nearest', cmap=cmap)\n",
    "    plt.title(title)\n",
    "    plt.colorbar()\n",
    "    tick_marks = np.arange(len(classes))\n",
    "    plt.xticks(tick_marks, classes, rotation=45)\n",
    "    plt.yticks(tick_marks, classes)\n",
    "\n",
    "    fmt = '.2f' if normalize else 'd'\n",
    "    thresh = cm.max() / 2.\n",
    "    for i, j in itertools.product(range(cm.shape[0]), range(cm.shape[1])):\n",
    "        plt.text(j, i, format(cm[i, j], fmt),\n",
    "                 horizontalalignment=\"center\",\n",
    "                 color=\"white\" if cm[i, j] > thresh else \"black\")\n",
    "\n",
    "    plt.ylabel('True Label')\n",
    "    plt.xlabel('Predicted Label')\n",
    "    plt.tight_layout()"
   ]
  },
  {
   "cell_type": "code",
   "execution_count": 18,
   "metadata": {},
   "outputs": [],
   "source": [
    "def show_confusionmatrix(path_model, name):\n",
    "    true_label, predict_label = True_Pred(path_model)\n",
    "    \n",
    "    cnf_matrix = confusion_matrix(true_label, predict_label,labels=label_getter())\n",
    "    np.set_printoptions(precision=1)\n",
    " \n",
    "    # Plot non-normalized confusion matrix\n",
    "    plt.figure()\n",
    "    plot_confusion_matrix(cnf_matrix, classes=label_getter(),\n",
    "                      title='Confusion matrix with ')\n",
    "    "
   ]
  },
  {
   "cell_type": "markdown",
   "metadata": {},
   "source": [
    "### Pretrained Model"
   ]
  },
  {
   "cell_type": "markdown",
   "metadata": {},
   "source": [
    "#### Best val acc"
   ]
  },
  {
   "cell_type": "code",
   "execution_count": 19,
   "metadata": {
    "scrolled": true
   },
   "outputs": [],
   "source": [
    "PATH_model = data_dir[:18] + \"/\" + model_name + '_'+ set_optimizer + \"_pretrained.pth\""
   ]
  },
  {
   "cell_type": "code",
   "execution_count": 20,
   "metadata": {},
   "outputs": [
    {
     "name": "stdout",
     "output_type": "stream",
     "text": [
      "Confusion matrix, without normalization\n",
      "[[ 7  2  0]\n",
      " [ 0 10  0]\n",
      " [ 1  0 13]]\n"
     ]
    },
    {
     "data": {
      "image/png": "[encoded data removed]",
      "text/plain": [
       "<Figure size 432x288 with 2 Axes>"
      ]
     },
     "metadata": {
      "needs_background": "light"
     },
     "output_type": "display_data"
    }
   ],
   "source": [
    "show_confusionmatrix(PATH_model, name=\"Pretrained at best val acc\")"
   ]
  },
  {
   "cell_type": "markdown",
   "metadata": {},
   "source": [
    "#### Last epoch"
   ]
  },
  {
   "cell_type": "code",
   "execution_count": 21,
   "metadata": {},
   "outputs": [],
   "source": [
    "PATH_model = data_dir[:18]  + \"/\" + model_name + '_'+ set_optimizer + \"_pretrained_lastEpoch.pth\""
   ]
  },
  {
   "cell_type": "code",
   "execution_count": 22,
   "metadata": {},
   "outputs": [
    {
     "name": "stdout",
     "output_type": "stream",
     "text": [
      "Confusion matrix, without normalization\n",
      "[[ 7  2  0]\n",
      " [ 0 10  0]\n",
      " [ 1  0 13]]\n"
     ]
    },
    {
     "data": {
      "image/png": "[encoded data removed]",
      "text/plain": [
       "<Figure size 432x288 with 2 Axes>"
      ]
     },
     "metadata": {
      "needs_background": "light"
     },
     "output_type": "display_data"
    }
   ],
   "source": [
    "show_confusionmatrix(PATH_model, name=\"Pretrained at the last Epoch\")"
   ]
  },
  {
   "cell_type": "markdown",
   "metadata": {},
   "source": [
    "### Scratch Model"
   ]
  },
  {
   "cell_type": "markdown",
   "metadata": {},
   "source": [
    "#### Best val acc"
   ]
  },
  {
   "cell_type": "code",
   "execution_count": 23,
   "metadata": {},
   "outputs": [],
   "source": [
    "PATH_model = data_dir[:18] + \"/\" + model_name + '_'+ set_optimizer + \"_scratch.pth\""
   ]
  },
  {
   "cell_type": "code",
   "execution_count": 24,
   "metadata": {},
   "outputs": [
    {
     "name": "stdout",
     "output_type": "stream",
     "text": [
      "Confusion matrix, without normalization\n",
      "[[ 9  0  0]\n",
      " [ 2  8  0]\n",
      " [ 0  1 13]]\n"
     ]
    },
    {
     "data": {
      "image/png": "[encoded data removed]",
      "text/plain": [
       "<Figure size 432x288 with 2 Axes>"
      ]
     },
     "metadata": {
      "needs_background": "light"
     },
     "output_type": "display_data"
    }
   ],
   "source": [
    "show_confusionmatrix(PATH_model, name=\"Scratch model at bese val acc\")"
   ]
  },
  {
   "cell_type": "markdown",
   "metadata": {},
   "source": [
    "#### Last epoch"
   ]
  },
  {
   "cell_type": "code",
   "execution_count": 25,
   "metadata": {},
   "outputs": [],
   "source": [
    "PATH_model = data_dir[:18] + \"/\" + model_name + '_'+ set_optimizer + \"_scratch_lastEpoch.pth\""
   ]
  },
  {
   "cell_type": "code",
   "execution_count": 26,
   "metadata": {},
   "outputs": [
    {
     "name": "stdout",
     "output_type": "stream",
     "text": [
      "Confusion matrix, without normalization\n",
      "[[ 8  1  0]\n",
      " [ 0 10  0]\n",
      " [ 0  1 13]]\n"
     ]
    },
    {
     "data": {
      "image/png": "[encoded data removed]",
      "text/plain": [
       "<Figure size 432x288 with 2 Axes>"
      ]
     },
     "metadata": {
      "needs_background": "light"
     },
     "output_type": "display_data"
    }
   ],
   "source": [
    "show_confusionmatrix(PATH_model, name=\"Scratch model at the last Epoch\")"
   ]
  }
 ],
 "metadata": {
  "kernelspec": {
   "display_name": "Python 3 (ipykernel)",
   "language": "python",
   "name": "python3"
  },
  "language_info": {
   "codemirror_mode": {
    "name": "ipython",
    "version": 3
   },
   "file_extension": ".py",
   "mimetype": "text/x-python",
   "name": "python",
   "nbconvert_exporter": "python",
   "pygments_lexer": "ipython3",
   "version": "3.9.7"
  }
 },
 "nbformat": 4,
 "nbformat_minor": 1
}
